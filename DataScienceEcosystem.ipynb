{
 "cells": [
  {
   "cell_type": "markdown",
   "id": "8bafeccb-2a3e-4e6d-ba4c-aec50ecd49c8",
   "metadata": {},
   "source": [
    "# Data Science Tools and Ecosystem"
   ]
  },
  {
   "cell_type": "markdown",
   "id": "2d593355-54dc-4801-9068-6c9b419c9f07",
   "metadata": {},
   "source": [
    "In this notebook, Data Science Tools and Ecosystem are summarized"
   ]
  },
  {
   "cell_type": "markdown",
   "id": "5ac65da7-54a5-4999-a6b9-02cc82685816",
   "metadata": {},
   "source": [
    "__Objectives:__"
   ]
  },
  {
   "cell_type": "markdown",
   "id": "6ecc316c-3acc-4aa8-a017-b79f08e89684",
   "metadata": {},
   "source": [
    "- List popular languages used by data scientists\n",
    "- List popular libraries used by data scientists\n",
    "- Evaluate basic arithmetic expressions"
   ]
  },
  {
   "cell_type": "markdown",
   "id": "28d1b587-b6d7-4f07-99f0-29e715a41d22",
   "metadata": {},
   "source": [
    "Some of the popular languages that Data Scientists use are:"
   ]
  },
  {
   "cell_type": "markdown",
   "id": "4f8bac31-677f-4ed8-aef1-f539ecc35aa5",
   "metadata": {},
   "source": [
    "1. Python\n",
    "2. R\n",
    "3. SQL"
   ]
  },
  {
   "cell_type": "markdown",
   "id": "c638781c-99a1-4ab5-8402-e01ac74a214d",
   "metadata": {},
   "source": [
    "Some of the commonly used libraries used by Data Scientists include:"
   ]
  },
  {
   "cell_type": "markdown",
   "id": "b30899a8-d8cb-4d4a-a8c7-5214daf1f33a",
   "metadata": {},
   "source": [
    "1. Pandas\n",
    "2. Numpy\n",
    "3. ggplot"
   ]
  },
  {
   "cell_type": "markdown",
   "id": "bccb69fc-b159-41a4-9966-8bf7677f2250",
   "metadata": {},
   "source": [
    "|Data Science Tools|\n",
    "| --- |\n",
    "|Jupyter|\n",
    "|RStudio|\n",
    "|Anaconda Spyder|"
   ]
  },
  {
   "cell_type": "markdown",
   "id": "338f567d-f897-4b3e-bf80-825dde635141",
   "metadata": {},
   "source": [
    "### Below are a few examples of evaluating arithmetic expressions in Python"
   ]
  },
  {
   "cell_type": "markdown",
   "id": "6e930bc7-6904-482b-9008-c28dfd494ccb",
   "metadata": {},
   "source": [
    "This a simple arithmetic expression to mutiply then add integers"
   ]
  },
  {
   "cell_type": "code",
   "execution_count": 1,
   "id": "bf683149-cda8-45ad-a3a4-367ef60d733d",
   "metadata": {
    "tags": []
   },
   "outputs": [
    {
     "data": {
      "text/plain": [
       "17"
      ]
     },
     "execution_count": 1,
     "metadata": {},
     "output_type": "execute_result"
    }
   ],
   "source": [
    "(3*4)+5"
   ]
  },
  {
   "cell_type": "markdown",
   "id": "b7d4d94a-b47a-4c8c-8de3-5978f4e7c0b1",
   "metadata": {},
   "source": [
    "This will convert 200 minutes to hours by diving by 60"
   ]
  },
  {
   "cell_type": "code",
   "execution_count": 2,
   "id": "3ea88b4b-2192-4a2e-a763-bc8359ddad05",
   "metadata": {
    "tags": []
   },
   "outputs": [
    {
     "data": {
      "text/plain": [
       "3.3333333333333335"
      ]
     },
     "execution_count": 2,
     "metadata": {},
     "output_type": "execute_result"
    }
   ],
   "source": [
    "200/60"
   ]
  },
  {
   "cell_type": "markdown",
   "id": "fa44c924-08a0-41f5-bf79-0672dcd09927",
   "metadata": {},
   "source": [
    "## Author"
   ]
  }
 ],
 "metadata": {
  "kernelspec": {
   "display_name": "Python 3 (ipykernel)",
   "language": "python",
   "name": "python3"
  },
  "language_info": {
   "codemirror_mode": {
    "name": "ipython",
    "version": 3
   },
   "file_extension": ".py",
   "mimetype": "text/x-python",
   "name": "python",
   "nbconvert_exporter": "python",
   "pygments_lexer": "ipython3",
   "version": "3.11.4"
  }
 },
 "nbformat": 4,
 "nbformat_minor": 5
}
